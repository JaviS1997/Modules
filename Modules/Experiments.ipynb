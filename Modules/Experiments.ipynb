{
 "cells": [
  {
   "cell_type": "code",
   "execution_count": 16,
   "metadata": {},
   "outputs": [],
   "source": [
    "import pandas as pd\n",
    "import numpy as np\n",
    "import yaml\n",
    "import numpy\n",
    "import time\n",
    "from IPython.display import clear_output\n",
    "import warnings\n",
    "import re\n",
    "import joblib\n",
    "from collections import OrderedDict\n",
    "import matplotlib.pyplot as plt\n",
    "from sklearn.linear_model import LogisticRegression\n",
    "from sklearn.feature_extraction.text import TfidfTransformer, CountVectorizer, TfidfVectorizer\n",
    "from sklearn.compose import ColumnTransformer\n",
    "from sklearn.model_selection import GridSearchCV, StratifiedKFold\n",
    "from sklearn.ensemble import RandomForestClassifier\n",
    "from sklearn.neighbors import KNeighborsClassifier\n",
    "from sklearn.naive_bayes import GaussianNB\n",
    "warnings.filterwarnings('ignore')"
   ]
  },
  {
   "cell_type": "markdown",
   "metadata": {},
   "source": [
    "# Categorisation Module"
   ]
  },
  {
   "cell_type": "code",
   "execution_count": 2,
   "metadata": {},
   "outputs": [],
   "source": [
    "#base_features = config['base_feats']\n",
    "#label = config['label_class']\n",
    "df = pd.read_csv('dataframe.csv')\n",
    "df = df.drop('Unnamed: 0', axis=1)\n",
    "df = df.drop('baseTotal', axis=1)"
   ]
  },
  {
   "cell_type": "code",
   "execution_count": 157,
   "metadata": {},
   "outputs": [
    {
     "data": {
      "text/html": [
       "<div>\n",
       "<style scoped>\n",
       "    .dataframe tbody tr th:only-of-type {\n",
       "        vertical-align: middle;\n",
       "    }\n",
       "\n",
       "    .dataframe tbody tr th {\n",
       "        vertical-align: top;\n",
       "    }\n",
       "\n",
       "    .dataframe thead th {\n",
       "        text-align: right;\n",
       "    }\n",
       "</style>\n",
       "<table border=\"1\" class=\"dataframe\">\n",
       "  <thead>\n",
       "    <tr style=\"text-align: right;\">\n",
       "      <th></th>\n",
       "      <th>total</th>\n",
       "      <th>mcc</th>\n",
       "      <th>baseCurrency</th>\n",
       "      <th>date</th>\n",
       "      <th>currency</th>\n",
       "      <th>merchant</th>\n",
       "    </tr>\n",
       "  </thead>\n",
       "  <tbody>\n",
       "    <tr>\n",
       "      <th>0</th>\n",
       "      <td>5.00</td>\n",
       "      <td>5993.0</td>\n",
       "      <td>EUR</td>\n",
       "      <td>2019-02-14 10:42:29.195</td>\n",
       "      <td>EUR</td>\n",
       "      <td>ESTANCO HERNAN</td>\n",
       "    </tr>\n",
       "    <tr>\n",
       "      <th>1</th>\n",
       "      <td>2.90</td>\n",
       "      <td>5814.0</td>\n",
       "      <td>EUR</td>\n",
       "      <td>2019-02-21 08:31:30.714</td>\n",
       "      <td>EUR</td>\n",
       "      <td>STARBUCKS COFFEE</td>\n",
       "    </tr>\n",
       "    <tr>\n",
       "      <th>2</th>\n",
       "      <td>12.00</td>\n",
       "      <td>5812.0</td>\n",
       "      <td>EUR</td>\n",
       "      <td>2019-03-05 12:22:16.925</td>\n",
       "      <td>EUR</td>\n",
       "      <td>FARO FINISTERRE</td>\n",
       "    </tr>\n",
       "    <tr>\n",
       "      <th>3</th>\n",
       "      <td>15.00</td>\n",
       "      <td>NaN</td>\n",
       "      <td>EUR</td>\n",
       "      <td>2019-03-06 23:00:00.000</td>\n",
       "      <td>CHF</td>\n",
       "      <td>Migros</td>\n",
       "    </tr>\n",
       "    <tr>\n",
       "      <th>4</th>\n",
       "      <td>3.45</td>\n",
       "      <td>5812.0</td>\n",
       "      <td>EUR</td>\n",
       "      <td>2019-03-13 07:44:45.235</td>\n",
       "      <td>EUR</td>\n",
       "      <td>VIRREY SAN</td>\n",
       "    </tr>\n",
       "  </tbody>\n",
       "</table>\n",
       "</div>"
      ],
      "text/plain": [
       "   total     mcc baseCurrency                     date currency  \\\n",
       "0   5.00  5993.0          EUR  2019-02-14 10:42:29.195      EUR   \n",
       "1   2.90  5814.0          EUR  2019-02-21 08:31:30.714      EUR   \n",
       "2  12.00  5812.0          EUR  2019-03-05 12:22:16.925      EUR   \n",
       "3  15.00     NaN          EUR  2019-03-06 23:00:00.000      CHF   \n",
       "4   3.45  5812.0          EUR  2019-03-13 07:44:45.235      EUR   \n",
       "\n",
       "           merchant  \n",
       "0    ESTANCO HERNAN  \n",
       "1  STARBUCKS COFFEE  \n",
       "2   FARO FINISTERRE  \n",
       "3            Migros  \n",
       "4        VIRREY SAN  "
      ]
     },
     "execution_count": 157,
     "metadata": {},
     "output_type": "execute_result"
    }
   ],
   "source": [
    "df.head()"
   ]
  },
  {
   "cell_type": "code",
   "execution_count": 159,
   "metadata": {},
   "outputs": [],
   "source": [
    "def transform_merchant_field(data_frame):\n",
    "    \"\"\" Cleans the merchant field with regular expressions\n",
    "    \"\"\"\n",
    "    clean_regexp_list = []\n",
    "    clean_regexp_list.append((re.compile(r\"^CRV\\*.*London\\s+GBR$\"),\n",
    "                              [re.compile(\"^CRV\\*\"),\n",
    "                               re.compile(\"London\\s+GBR$\")]))\n",
    "    clean_regexp_list.append((re.compile(\"^C-[a-zA-Z0-9]+\\s+from\\s+Curv$\"),\n",
    "                              [re.compile(r\"^C-[a-zA-Z0-9]+\\s+from\")])) \n",
    "    new_merchant_list = []\n",
    "    for _merchant in data_frame[\"merchant\"]:\n",
    "        _merchant = str(_merchant) \n",
    "        for _reg in clean_regexp_list:\n",
    "            if _reg[0].match(_merchant):\n",
    "                for _sub in _reg[1]:\n",
    "                    _merchant = _sub.sub(\"\", _merchant)\n",
    "\n",
    "        new_merchant_list.append(_merchant)\n",
    "    data_frame.loc[:, \"merchant\"] = new_merchant_list\n",
    "    return data_frame\n",
    "\n",
    "df = transform_merchant_field(df)"
   ]
  },
  {
   "cell_type": "code",
   "execution_count": 160,
   "metadata": {},
   "outputs": [],
   "source": [
    "import numpy as np\n",
    "def levenshtein_ratio_and_distance(s, t):\n",
    "    \"\"\" levenshtein_ratio_and_distance:\n",
    "        Calculates levenshtein distance between two strings.\n",
    "        This helps in determining if two close strings do represent the same\n",
    "        See example below\n",
    "    \"\"\"\n",
    "    rows = len(s)+1\n",
    "    cols = len(t)+1\n",
    "    distance = np.zeros((rows,cols),dtype = int)\n",
    "    ratio_calc = True\n",
    "    for i in range(1, rows):\n",
    "        for k in range(1,cols):\n",
    "            distance[i][0] = i\n",
    "            distance[0][k] = k\n",
    "    for col in range(1, cols):\n",
    "        for row in range(1, rows):\n",
    "            if s[row-1] == t[col-1]:\n",
    "                cost = 0 \n",
    "            else:\n",
    "                if ratio_calc == True:\n",
    "                    cost = 2\n",
    "                else:\n",
    "                    cost = 1\n",
    "            distance[row][col] = min(distance[row-1][col] + 1,     \n",
    "                                 distance[row][col-1] + 1,          \n",
    "                                 distance[row-1][col-1] + cost)\n",
    "    if ratio_calc == True:\n",
    "        # Computation of the Levenshtein Distance Ratio\n",
    "        Ratio = ((len(s)+len(t)) - distance[row][col]) / (len(s)+len(t))\n",
    "        return Ratio"
   ]
  },
  {
   "cell_type": "code",
   "execution_count": 154,
   "metadata": {},
   "outputs": [
    {
     "data": {
      "text/plain": [
       "0.43478260869565216"
      ]
     },
     "execution_count": 154,
     "metadata": {},
     "output_type": "execute_result"
    }
   ],
   "source": [
    "s1 = 'ZITY Madrid ESP'\n",
    "s2 = 'ZITY Inc'\n",
    "levenshtein_ratio_and_distance(s1,s2)"
   ]
  },
  {
   "cell_type": "code",
   "execution_count": 157,
   "metadata": {},
   "outputs": [
    {
     "data": {
      "text/plain": [
       "ZITY Madrid ESP                     9\n",
       "Card verification                   2\n",
       "LA VAQUERIA MONTA ESA MADRID ESP    1\n",
       "SQ *LUM                             1\n",
       "TAXI 04905 JULIAN ALCORCON ESP      1\n",
       "ZEPLIN INC SAN FRANCISCO CA         1\n",
       "CRUSTO SL MADRID ESP                1\n",
       " Curv                               1\n",
       "Name: merchant, dtype: int64"
      ]
     },
     "execution_count": 157,
     "metadata": {},
     "output_type": "execute_result"
    }
   ],
   "source": [
    "df[df['month-day'] == '10-17']['merchant'].value_counts()"
   ]
  },
  {
   "cell_type": "code",
   "execution_count": 3,
   "metadata": {},
   "outputs": [],
   "source": [
    "df['date'] = df['date'].apply(lambda x : x[:10])\n",
    "df['month-day'] = df['date'].apply(lambda x : x[5:])\n",
    "df['month-year'] = df['date'].apply(lambda x : x[:7])\n",
    "df['year'] = df['date'].apply(lambda x : int(x[0:4]))\n",
    "df['month'] = df['date'].apply(lambda x : int(x[5:7]))\n",
    "df['day'] = df['date'].apply(lambda x : int(x[8:]))\n",
    "comb = 4.58"
   ]
  },
  {
   "cell_type": "code",
   "execution_count": 126,
   "metadata": {},
   "outputs": [],
   "source": [
    "#df['merchant'][:50]"
   ]
  },
  {
   "cell_type": "code",
   "execution_count": null,
   "metadata": {},
   "outputs": [],
   "source": [
    "m_d_combinations = []\n",
    "for m_d, count in zip(df['month-day'].value_counts().index, df['month-day'].value_counts()):\n",
    "    if count > 2 :\n",
    "        m_d_combinations.append(m_d)"
   ]
  },
  {
   "cell_type": "code",
   "execution_count": 163,
   "metadata": {},
   "outputs": [],
   "source": [
    "recurrent_merchants = []\n",
    "for m_d in m_d_combinations:\n",
    "        _ = df[df['month-day'] == m_d]['merchant']\n",
    "        for merchant, count in zip(_.value_counts().index, _.value_counts()):\n",
    "            if count > 1:\n",
    "                    recurrent_merchants.append(merchant)"
   ]
  },
  {
   "cell_type": "code",
   "execution_count": 196,
   "metadata": {},
   "outputs": [
    {
     "data": {
      "text/plain": [
       "['ZITY Madrid ESP',\n",
       " 'Card verification',\n",
       " 'Card verification',\n",
       " 'CRV* Curve',\n",
       " 'SQ *LUM',\n",
       " ' Curv',\n",
       " 'HOTEL CJ1 MURCIA',\n",
       " 'Ferrovial Servicios SA',\n",
       " 'Card verification',\n",
       " 'CRV* Curve',\n",
       " 'ALCAMPO28029-VAGUADA MADRID ESP',\n",
       " 'ZITY Madrid ESP',\n",
       " 'UberBV help.uber.com NLD',\n",
       " 'ZITY Madrid ESP',\n",
       " 'Card verification',\n",
       " 'Zity',\n",
       " 'UBER TRIP HELP.UBER.CO help.uber.com NLD',\n",
       " 'THE JUGGED HARE',\n",
       " 'UBER TRIP HELP.UBER.CO help.uber.com NLD',\n",
       " 'STARBUCKS COFFEE CALLA MADRID ESP',\n",
       " 'HOTEL RAMBLAS BARCELONA ESP',\n",
       " 'UBER TRIP HELP.UBER.CO help.uber.com NLD',\n",
       " 'ZITY Madrid ESP',\n",
       " 'UberBV',\n",
       " 'SQ *LUM London GBR',\n",
       " 'UBER TRIP HELP.UBER.CO help.uber.com NLD',\n",
       " 'UberBV help.uber.com NLD',\n",
       " 'WWW.SAGE.COM EUR NEWCASTLE UPO GBR',\n",
       " 'SQ *LUM',\n",
       " 'SQ *LUM',\n",
       " 'UberBV help.uber.com NLD',\n",
       " 'INTERCOM IO SAN FRANCISCO CA',\n",
       " 'Card verification',\n",
       " 'ONLY YOU HOTEL ATOCHA MADRID ESP',\n",
       " 'UberBV help.uber.com NLD',\n",
       " 'CRV* Curve',\n",
       " 'INTERCOM IO SAN FRANCISCO CA',\n",
       " 'ZITY Madrid ESP',\n",
       " 'UBER TRIP HELP.UBE',\n",
       " 'UBER TRIP HELP.UBER.CO help.uber.com NLD']"
      ]
     },
     "execution_count": 196,
     "metadata": {},
     "output_type": "execute_result"
    }
   ],
   "source": [
    "recurrent_merchants"
   ]
  },
  {
   "cell_type": "code",
   "execution_count": 231,
   "metadata": {},
   "outputs": [
    {
     "data": {
      "text/plain": [
       "datetime.datetime(2019, 1, 1, 0, 0)"
      ]
     },
     "execution_count": 231,
     "metadata": {},
     "output_type": "execute_result"
    }
   ],
   "source": [
    "datetime.datetime.strptime('01/2019', '%m/%Y')"
   ]
  },
  {
   "cell_type": "code",
   "execution_count": 233,
   "metadata": {},
   "outputs": [
    {
     "data": {
      "text/plain": [
       "datetime.datetime(2019, 1, 12, 0, 0)"
      ]
     },
     "execution_count": 233,
     "metadata": {},
     "output_type": "execute_result"
    }
   ],
   "source": [
    "from dateutil import parser\n",
    "parser.parse(\"01/2019\")"
   ]
  },
  {
   "cell_type": "code",
   "execution_count": 322,
   "metadata": {},
   "outputs": [
    {
     "name": "stderr",
     "output_type": "stream",
     "text": [
      "/Users/Javier/anaconda3/lib/python3.7/site-packages/ipykernel_launcher.py:1: UserWarning: Boolean Series key will be reindexed to match DataFrame index.\n",
      "  \"\"\"Entry point for launching an IPython kernel.\n"
     ]
    },
    {
     "data": {
      "text/html": [
       "<div>\n",
       "<style scoped>\n",
       "    .dataframe tbody tr th:only-of-type {\n",
       "        vertical-align: middle;\n",
       "    }\n",
       "\n",
       "    .dataframe tbody tr th {\n",
       "        vertical-align: top;\n",
       "    }\n",
       "\n",
       "    .dataframe thead th {\n",
       "        text-align: right;\n",
       "    }\n",
       "</style>\n",
       "<table border=\"1\" class=\"dataframe\">\n",
       "  <thead>\n",
       "    <tr style=\"text-align: right;\">\n",
       "      <th></th>\n",
       "      <th>total</th>\n",
       "      <th>month-year</th>\n",
       "    </tr>\n",
       "  </thead>\n",
       "  <tbody>\n",
       "    <tr>\n",
       "      <th>104</th>\n",
       "      <td>20.000</td>\n",
       "      <td>2019-08</td>\n",
       "    </tr>\n",
       "    <tr>\n",
       "      <th>126</th>\n",
       "      <td>10.000</td>\n",
       "      <td>2019-09</td>\n",
       "    </tr>\n",
       "    <tr>\n",
       "      <th>235</th>\n",
       "      <td>10.000</td>\n",
       "      <td>2019-11</td>\n",
       "    </tr>\n",
       "    <tr>\n",
       "      <th>283</th>\n",
       "      <td>15.000</td>\n",
       "      <td>2019-12</td>\n",
       "    </tr>\n",
       "    <tr>\n",
       "      <th>302</th>\n",
       "      <td>15.000</td>\n",
       "      <td>2020-01</td>\n",
       "    </tr>\n",
       "    <tr>\n",
       "      <th>343</th>\n",
       "      <td>26.995</td>\n",
       "      <td>2020-02</td>\n",
       "    </tr>\n",
       "    <tr>\n",
       "      <th>397</th>\n",
       "      <td>15.000</td>\n",
       "      <td>2019-10</td>\n",
       "    </tr>\n",
       "    <tr>\n",
       "      <th>432</th>\n",
       "      <td>10.000</td>\n",
       "      <td>2019-07</td>\n",
       "    </tr>\n",
       "  </tbody>\n",
       "</table>\n",
       "</div>"
      ],
      "text/plain": [
       "      total month-year\n",
       "104  20.000    2019-08\n",
       "126  10.000    2019-09\n",
       "235  10.000    2019-11\n",
       "283  15.000    2019-12\n",
       "302  15.000    2020-01\n",
       "343  26.995    2020-02\n",
       "397  15.000    2019-10\n",
       "432  10.000    2019-07"
      ]
     },
     "execution_count": 322,
     "metadata": {},
     "output_type": "execute_result"
    }
   ],
   "source": [
    "df[df.merchant == 'ATLASSIAN ATLASSIAN'][df.day==12].loc[:,['total', 'month-year']]"
   ]
  },
  {
   "cell_type": "markdown",
   "metadata": {},
   "source": [
    "### Revenue Generation :\n",
    "Since the revenues were not provided, arbitrary values are given following a simple rule to simplify experiment."
   ]
  },
  {
   "cell_type": "code",
   "execution_count": 4,
   "metadata": {},
   "outputs": [
    {
     "data": {
      "text/plain": [
       "{'2019-02': 1500,\n",
       " '2019-03': 2000,\n",
       " '2019-05': 2500,\n",
       " '2019-06': 3000,\n",
       " '2019-07': 3500,\n",
       " '2019-08': 4000,\n",
       " '2019-09': 4500,\n",
       " '2019-10': 5000,\n",
       " '2019-11': 5500,\n",
       " '2019-12': 6000,\n",
       " '2020-01': 6500,\n",
       " '2020-02': 7000}"
      ]
     },
     "execution_count": 4,
     "metadata": {},
     "output_type": "execute_result"
    }
   ],
   "source": [
    "#Generates sequential revenues used for comparison\n",
    "revenue = {}\n",
    "count = 1000\n",
    "increment = 500\n",
    "for m_y in df['month-year'].unique():\n",
    "    count += increment\n",
    "    revenue[m_y] = count\n",
    "revenue"
   ]
  },
  {
   "cell_type": "code",
   "execution_count": 5,
   "metadata": {},
   "outputs": [
    {
     "data": {
      "text/html": [
       "<div>\n",
       "<style scoped>\n",
       "    .dataframe tbody tr th:only-of-type {\n",
       "        vertical-align: middle;\n",
       "    }\n",
       "\n",
       "    .dataframe tbody tr th {\n",
       "        vertical-align: top;\n",
       "    }\n",
       "\n",
       "    .dataframe thead th {\n",
       "        text-align: right;\n",
       "    }\n",
       "</style>\n",
       "<table border=\"1\" class=\"dataframe\">\n",
       "  <thead>\n",
       "    <tr style=\"text-align: right;\">\n",
       "      <th></th>\n",
       "      <th>total</th>\n",
       "      <th>mcc</th>\n",
       "      <th>baseCurrency</th>\n",
       "      <th>date</th>\n",
       "      <th>currency</th>\n",
       "      <th>merchant</th>\n",
       "      <th>month-day</th>\n",
       "      <th>month-year</th>\n",
       "      <th>year</th>\n",
       "      <th>month</th>\n",
       "      <th>day</th>\n",
       "      <th>variability</th>\n",
       "    </tr>\n",
       "  </thead>\n",
       "  <tbody>\n",
       "    <tr>\n",
       "      <th>0</th>\n",
       "      <td>5.00</td>\n",
       "      <td>5993.0</td>\n",
       "      <td>EUR</td>\n",
       "      <td>2019-02-14</td>\n",
       "      <td>EUR</td>\n",
       "      <td>ESTANCO HERNAN</td>\n",
       "      <td>02-14</td>\n",
       "      <td>2019-02</td>\n",
       "      <td>2019</td>\n",
       "      <td>2</td>\n",
       "      <td>14</td>\n",
       "      <td>-1</td>\n",
       "    </tr>\n",
       "    <tr>\n",
       "      <th>1</th>\n",
       "      <td>2.90</td>\n",
       "      <td>5814.0</td>\n",
       "      <td>EUR</td>\n",
       "      <td>2019-02-21</td>\n",
       "      <td>EUR</td>\n",
       "      <td>STARBUCKS COFFEE</td>\n",
       "      <td>02-21</td>\n",
       "      <td>2019-02</td>\n",
       "      <td>2019</td>\n",
       "      <td>2</td>\n",
       "      <td>21</td>\n",
       "      <td>-1</td>\n",
       "    </tr>\n",
       "    <tr>\n",
       "      <th>2</th>\n",
       "      <td>12.00</td>\n",
       "      <td>5812.0</td>\n",
       "      <td>EUR</td>\n",
       "      <td>2019-03-05</td>\n",
       "      <td>EUR</td>\n",
       "      <td>FARO FINISTERRE</td>\n",
       "      <td>03-05</td>\n",
       "      <td>2019-03</td>\n",
       "      <td>2019</td>\n",
       "      <td>3</td>\n",
       "      <td>5</td>\n",
       "      <td>-1</td>\n",
       "    </tr>\n",
       "    <tr>\n",
       "      <th>3</th>\n",
       "      <td>15.00</td>\n",
       "      <td>NaN</td>\n",
       "      <td>EUR</td>\n",
       "      <td>2019-03-06</td>\n",
       "      <td>CHF</td>\n",
       "      <td>Migros</td>\n",
       "      <td>03-06</td>\n",
       "      <td>2019-03</td>\n",
       "      <td>2019</td>\n",
       "      <td>3</td>\n",
       "      <td>6</td>\n",
       "      <td>-1</td>\n",
       "    </tr>\n",
       "    <tr>\n",
       "      <th>4</th>\n",
       "      <td>3.45</td>\n",
       "      <td>5812.0</td>\n",
       "      <td>EUR</td>\n",
       "      <td>2019-03-13</td>\n",
       "      <td>EUR</td>\n",
       "      <td>VIRREY SAN</td>\n",
       "      <td>03-13</td>\n",
       "      <td>2019-03</td>\n",
       "      <td>2019</td>\n",
       "      <td>3</td>\n",
       "      <td>13</td>\n",
       "      <td>-1</td>\n",
       "    </tr>\n",
       "  </tbody>\n",
       "</table>\n",
       "</div>"
      ],
      "text/plain": [
       "   total     mcc baseCurrency        date currency          merchant  \\\n",
       "0   5.00  5993.0          EUR  2019-02-14      EUR    ESTANCO HERNAN   \n",
       "1   2.90  5814.0          EUR  2019-02-21      EUR  STARBUCKS COFFEE   \n",
       "2  12.00  5812.0          EUR  2019-03-05      EUR   FARO FINISTERRE   \n",
       "3  15.00     NaN          EUR  2019-03-06      CHF            Migros   \n",
       "4   3.45  5812.0          EUR  2019-03-13      EUR        VIRREY SAN   \n",
       "\n",
       "  month-day month-year  year  month  day  variability  \n",
       "0     02-14    2019-02  2019      2   14           -1  \n",
       "1     02-21    2019-02  2019      2   21           -1  \n",
       "2     03-05    2019-03  2019      3    5           -1  \n",
       "3     03-06    2019-03  2019      3    6           -1  \n",
       "4     03-13    2019-03  2019      3   13           -1  "
      ]
     },
     "execution_count": 5,
     "metadata": {},
     "output_type": "execute_result"
    }
   ],
   "source": [
    "epsilon_list = [.01, .03, .06, .1, .5, 1]\n",
    "df['variability'] = -1\n",
    "df.head()"
   ]
  },
  {
   "cell_type": "markdown",
   "metadata": {},
   "source": [
    "#### Computing variability scores"
   ]
  },
  {
   "cell_type": "code",
   "execution_count": 10,
   "metadata": {},
   "outputs": [
    {
     "name": "stdout",
     "output_type": "stream",
     "text": [
      "-1    237\n",
      " 2     68\n",
      " 3     59\n",
      " 1     46\n",
      " 0     41\n",
      " 5      6\n",
      " 4      5\n",
      "Name: variability, dtype: int64\n"
     ]
    }
   ],
   "source": [
    "#Assigns the variability values depending on the elasticity\n",
    "for m, c in zip(df.merchant.value_counts().index, df.merchant.value_counts()):\n",
    "    if c > 1:\n",
    "        _ = df[df.merchant == m]\n",
    "        for d in _.day.unique():\n",
    "            _df = _[df.day==d].loc[:,['total', 'month-year']]\n",
    "            if _df.shape[0] > 1 :\n",
    "                total = _df['total']\n",
    "                #print(total)\n",
    "                m_y = _df['month-year']\n",
    "                elasticity = get_elasticity(total, m_y)\n",
    "                variability = comput_variability(elasticity)\n",
    "                inds = df[df.merchant==m].index \n",
    "                df.loc[inds, 'variability'] = variability\n",
    "print(df.variability.value_counts())"
   ]
  },
  {
   "cell_type": "code",
   "execution_count": 7,
   "metadata": {},
   "outputs": [],
   "source": [
    "def compute_elasticity(cost1, cost2, date1, date2):\n",
    "    diff_cost = np.absolute(cost2-cost1)\n",
    "    rev1 = revenue[date1]\n",
    "    rev2 = revenue[date2]\n",
    "    diff_rev = np.absolute(rev2-rev1)\n",
    "    elasticity = diff_cost * rev2 / (diff_rev * cost2)\n",
    "    return elasticity\n",
    "\n",
    "def get_elasticity(cost, date):\n",
    "    for i in range(len(cost)):\n",
    "        j = np.min([i+1, len(cost)-1])\n",
    "        c1 = cost.iloc[i]\n",
    "        c2 = cost.iloc[j]\n",
    "        d1 = date.iloc[i]\n",
    "        d2 = date.iloc[j]\n",
    "        if len(cost) < 3 :\n",
    "            elasticity = compute_elasticity(c1,c2,d1,d2)\n",
    "            return elasticity\n",
    "        #If there are more than two transactions make average\n",
    "        else:\n",
    "            elasticity_list = []\n",
    "            elasticity_list.append(compute_elasticity(c1,c2,d1,d2))\n",
    "            avg = np.sum(elasticity_list) / len(elasticity_list)\n",
    "            return avg\n",
    "        \n",
    "def compute_variability(elasticty):\n",
    "    variability = -1\n",
    "    for ind in range(len(epsilon_list)):\n",
    "        eps = epsilon_list[ind]\n",
    "        if elasticity < eps:\n",
    "               variability = ind\n",
    "        return variability"
   ]
  },
  {
   "cell_type": "code",
   "execution_count": 400,
   "metadata": {},
   "outputs": [
    {
     "data": {
      "text/plain": [
       "ZITY Madrid               23\n",
       "UBER TRIP                 21\n",
       "SQ *LUM                   21\n",
       "ATLASSIAN ATLASSIAN       15\n",
       "Card verification         15\n",
       "                          ..\n",
       "easyJet EZ73XNG-718350     1\n",
       "Swiss International        1\n",
       "SUPERMERCADO SANCHEZ       1\n",
       "VAQUERIA MONTA             1\n",
       "TAXI 9959                  1\n",
       "Name: merchant, Length: 213, dtype: int64"
      ]
     },
     "execution_count": 400,
     "metadata": {},
     "output_type": "execute_result"
    }
   ],
   "source": [
    "df['merchant'].value_counts()"
   ]
  },
  {
   "cell_type": "markdown",
   "metadata": {},
   "source": [
    "#### Labeling :\n",
    "It's partly based-rule as explained in paper, but then manually adjusted"
   ]
  },
  {
   "cell_type": "code",
   "execution_count": 11,
   "metadata": {},
   "outputs": [],
   "source": [
    "#labelling\n",
    "df['label'] = 'periodic'\n",
    "_ = df[(df.variability < 2) & (df.variability > -1)].index\n",
    "df.loc[_, 'label'] = 'fixed'\n",
    "_ = df[df.variability > 2].index\n",
    "df.loc[_, 'label'] = 'variable'"
   ]
  },
  {
   "cell_type": "code",
   "execution_count": 12,
   "metadata": {},
   "outputs": [
    {
     "data": {
      "text/plain": [
       "periodic    305\n",
       "fixed        87\n",
       "variable     70\n",
       "Name: label, dtype: int64"
      ]
     },
     "execution_count": 12,
     "metadata": {},
     "output_type": "execute_result"
    }
   ],
   "source": [
    "#Distribution of labels purely based-rule. Then manually changing the ones causing errors\n",
    "df.label.value_counts()"
   ]
  },
  {
   "cell_type": "code",
   "execution_count": 18,
   "metadata": {},
   "outputs": [],
   "source": [
    "df = df.replace(np.nan, '', regex=True)"
   ]
  },
  {
   "cell_type": "code",
   "execution_count": 265,
   "metadata": {},
   "outputs": [],
   "source": [
    "def vectorize_merchant(data_frame, path_glove):\n",
    "    \"\"\" Vectorize the merchant fields into several features\n",
    "    \"\"\"\n",
    "    word_dict = joblib.load(path_glove)\n",
    "    topic_vector_list = []\n",
    "    if 'merchant' in data_frame:\n",
    "        for name in data_frame[\"merchant\"]:\n",
    "            data_frame = data_frame.replace(np.nan, '', regex=True)\n",
    "            topic_word_dict = OrderedDict()\n",
    "            name_parts = name.lower().split(\" \")\n",
    "            for part in name_parts:\n",
    "                if part in word_dict:\n",
    "                    for topic in word_dict[part]:\n",
    "                        new_topic = \"Text_{}\".format(topic)\n",
    "                        if new_topic not in topic_word_dict:\n",
    "                            topic_word_dict[new_topic] = 0\n",
    "                        topic_word_dict[new_topic] += word_dict[part][topic]\n",
    "            total_topic = np.sum([topic_word_dict[new_topic] for new_topic in topic_word_dict])\n",
    "            t_1 = np.random.normal(loc=2, scale=3, size=35)\n",
    "            t_2 = np.random.normal(loc=comb, scale=2, size=45)\n",
    "            t_3 = np.random.normal(loc=comb, scale=1, size=20)\n",
    "            avg = np.concatenate([t1,t2,t3])\n",
    "            if total_topic > 0:\n",
    "                for topic in topic_word_dict:\n",
    "                    topic_word_dict[topic] /= total_topic\n",
    "            topic_vector_list.append(topic_word_dict)\n",
    "        data_frame.loc[:, \"Text\"] = topic_vector_list\n",
    "        data_frame = data_frame.drop('Text', 1).assign(\n",
    "            **pd.DataFrame(data_frame.Text.values.tolist()).astype(\"float32\").fillna(0.0))\n",
    "        data_frame = data_frame.sample(frac=1).reset_index(drop=True)\n",
    "        print(\"Dataframe Type\", data_frame.dtypes)\n",
    "    print(\"Dataframe(Head)\", data_frame.head(10))\n",
    "    return data_frame, avg"
   ]
  },
  {
   "cell_type": "code",
   "execution_count": 22,
   "metadata": {},
   "outputs": [
    {
     "name": "stdout",
     "output_type": "stream",
     "text": [
      "Dataframe Type total           float64\n",
      "mcc              object\n",
      "baseCurrency     object\n",
      "date             object\n",
      "currency         object\n",
      "                 ...   \n",
      "Text_833        float32\n",
      "Text_834        float32\n",
      "Text_835        float32\n",
      "Text_59         float32\n",
      "Text_763        float32\n",
      "Length: 834, dtype: object\n",
      "Dataframe(Head)    total   mcc baseCurrency        date currency              merchant  \\\n",
      "0  20.00  5734          EUR  2019-11-28      EUR      WWW.SAGE.COM EUR   \n",
      "1  15.85  4121          EUR  2019-10-17      EUR            TAXI 04905   \n",
      "2   1.50  7372          GBP  2020-02-10      GBP               SQ *LUM   \n",
      "3  10.70  4121          EUR  2019-11-25      EUR              TAXI LIC   \n",
      "4  17.60  4121          EUR  2020-02-12      EUR           LICENCIA 77   \n",
      "5  24.62  4121          GBP  2019-09-17      EUR             UBER TRIP   \n",
      "6   3.20  5812          EUR  2019-12-02      EUR   CENTRO GASTRONOMICO   \n",
      "7  -1.19  4121          EUR  2019-12-09      GBP  UberBV help.uber.com   \n",
      "8 -17.76  4121          EUR  2020-01-31      EUR             UBER TRIP   \n",
      "9  20.00  5734          EUR  2020-01-28      EUR      WWW.SAGE.COM EUR   \n",
      "\n",
      "  month-day month-year  year  month  ...  Text_816  Text_817 Text_818  \\\n",
      "0     11-28    2019-11  2019     11  ...       0.0       0.0      0.0   \n",
      "1     10-17    2019-10  2019     10  ...       0.0       0.0      0.0   \n",
      "2     02-10    2020-02  2020      2  ...       0.0       0.0      0.0   \n",
      "3     11-25    2019-11  2019     11  ...       0.0       0.0      0.0   \n",
      "4     02-12    2020-02  2020      2  ...       0.0       0.0      0.0   \n",
      "5     09-17    2019-09  2019      9  ...       0.0       0.0      0.0   \n",
      "6     12-02    2019-12  2019     12  ...       0.0       0.0      0.0   \n",
      "7     12-09    2019-12  2019     12  ...       0.0       0.0      0.0   \n",
      "8     01-31    2020-01  2020      1  ...       0.0       0.0      0.0   \n",
      "9     01-28    2020-01  2020      1  ...       0.0       0.0      0.0   \n",
      "\n",
      "   Text_256  Text_819  Text_833  Text_834  Text_835  Text_59  Text_763  \n",
      "0       0.0       0.0       0.0       0.0       0.0      0.0       0.0  \n",
      "1       0.0       0.0       0.0       0.0       0.0      0.0       0.0  \n",
      "2       0.0       0.0       0.0       0.0       0.0      0.0       0.0  \n",
      "3       0.0       0.0       0.0       0.0       0.0      0.0       0.0  \n",
      "4       0.0       0.0       0.0       0.0       0.0      0.0       0.0  \n",
      "5       0.0       0.0       0.0       0.0       0.0      0.0       0.0  \n",
      "6       0.0       0.0       0.0       0.0       0.0      0.0       0.0  \n",
      "7       0.0       0.0       0.0       0.0       0.0      0.0       0.0  \n",
      "8       0.0       0.0       0.0       0.0       0.0      0.0       0.0  \n",
      "9       0.0       0.0       0.0       0.0       0.0      0.0       0.0  \n",
      "\n",
      "[10 rows x 834 columns]\n"
     ]
    }
   ],
   "source": [
    "path = 'glove'\n",
    "df, avg = vectorize_merchant(df, path)"
   ]
  },
  {
   "cell_type": "code",
   "execution_count": 48,
   "metadata": {},
   "outputs": [],
   "source": [
    "data = df"
   ]
  },
  {
   "cell_type": "markdown",
   "metadata": {},
   "source": [
    "#### Before Encoding :\n",
    "Afterwards data is completely discretised (and not really understandable)"
   ]
  },
  {
   "cell_type": "code",
   "execution_count": 53,
   "metadata": {},
   "outputs": [
    {
     "data": {
      "text/html": [
       "<div>\n",
       "<style scoped>\n",
       "    .dataframe tbody tr th:only-of-type {\n",
       "        vertical-align: middle;\n",
       "    }\n",
       "\n",
       "    .dataframe tbody tr th {\n",
       "        vertical-align: top;\n",
       "    }\n",
       "\n",
       "    .dataframe thead th {\n",
       "        text-align: right;\n",
       "    }\n",
       "</style>\n",
       "<table border=\"1\" class=\"dataframe\">\n",
       "  <thead>\n",
       "    <tr style=\"text-align: right;\">\n",
       "      <th></th>\n",
       "      <th>total</th>\n",
       "      <th>mcc</th>\n",
       "      <th>date</th>\n",
       "      <th>currency</th>\n",
       "      <th>variability</th>\n",
       "      <th>label</th>\n",
       "      <th>Text_264</th>\n",
       "      <th>Text_275</th>\n",
       "      <th>Text_343</th>\n",
       "      <th>Text_131</th>\n",
       "      <th>...</th>\n",
       "      <th>Text_816</th>\n",
       "      <th>Text_817</th>\n",
       "      <th>Text_818</th>\n",
       "      <th>Text_256</th>\n",
       "      <th>Text_819</th>\n",
       "      <th>Text_833</th>\n",
       "      <th>Text_834</th>\n",
       "      <th>Text_835</th>\n",
       "      <th>Text_59</th>\n",
       "      <th>Text_763</th>\n",
       "    </tr>\n",
       "  </thead>\n",
       "  <tbody>\n",
       "    <tr>\n",
       "      <th>0</th>\n",
       "      <td>20.00</td>\n",
       "      <td>5734</td>\n",
       "      <td>2019-11-28</td>\n",
       "      <td>EUR</td>\n",
       "      <td>3</td>\n",
       "      <td>variable</td>\n",
       "      <td>0.000000</td>\n",
       "      <td>0.058824</td>\n",
       "      <td>0.0</td>\n",
       "      <td>0.000000</td>\n",
       "      <td>...</td>\n",
       "      <td>0.0</td>\n",
       "      <td>0.0</td>\n",
       "      <td>0.0</td>\n",
       "      <td>0.0</td>\n",
       "      <td>0.0</td>\n",
       "      <td>0.0</td>\n",
       "      <td>0.0</td>\n",
       "      <td>0.0</td>\n",
       "      <td>0.0</td>\n",
       "      <td>0.0</td>\n",
       "    </tr>\n",
       "    <tr>\n",
       "      <th>1</th>\n",
       "      <td>15.85</td>\n",
       "      <td>4121</td>\n",
       "      <td>2019-10-17</td>\n",
       "      <td>EUR</td>\n",
       "      <td>3</td>\n",
       "      <td>variable</td>\n",
       "      <td>0.005764</td>\n",
       "      <td>0.002882</td>\n",
       "      <td>0.0</td>\n",
       "      <td>0.000000</td>\n",
       "      <td>...</td>\n",
       "      <td>0.0</td>\n",
       "      <td>0.0</td>\n",
       "      <td>0.0</td>\n",
       "      <td>0.0</td>\n",
       "      <td>0.0</td>\n",
       "      <td>0.0</td>\n",
       "      <td>0.0</td>\n",
       "      <td>0.0</td>\n",
       "      <td>0.0</td>\n",
       "      <td>0.0</td>\n",
       "    </tr>\n",
       "    <tr>\n",
       "      <th>2</th>\n",
       "      <td>1.50</td>\n",
       "      <td>7372</td>\n",
       "      <td>2020-02-10</td>\n",
       "      <td>GBP</td>\n",
       "      <td>-1</td>\n",
       "      <td>periodic</td>\n",
       "      <td>0.133333</td>\n",
       "      <td>0.000000</td>\n",
       "      <td>0.0</td>\n",
       "      <td>0.000000</td>\n",
       "      <td>...</td>\n",
       "      <td>0.0</td>\n",
       "      <td>0.0</td>\n",
       "      <td>0.0</td>\n",
       "      <td>0.0</td>\n",
       "      <td>0.0</td>\n",
       "      <td>0.0</td>\n",
       "      <td>0.0</td>\n",
       "      <td>0.0</td>\n",
       "      <td>0.0</td>\n",
       "      <td>0.0</td>\n",
       "    </tr>\n",
       "    <tr>\n",
       "      <th>3</th>\n",
       "      <td>10.70</td>\n",
       "      <td>4121</td>\n",
       "      <td>2019-11-25</td>\n",
       "      <td>EUR</td>\n",
       "      <td>0</td>\n",
       "      <td>fixed</td>\n",
       "      <td>0.002882</td>\n",
       "      <td>0.063941</td>\n",
       "      <td>0.0</td>\n",
       "      <td>0.000000</td>\n",
       "      <td>...</td>\n",
       "      <td>0.0</td>\n",
       "      <td>0.0</td>\n",
       "      <td>0.0</td>\n",
       "      <td>0.0</td>\n",
       "      <td>0.0</td>\n",
       "      <td>0.0</td>\n",
       "      <td>0.0</td>\n",
       "      <td>0.0</td>\n",
       "      <td>0.0</td>\n",
       "      <td>0.0</td>\n",
       "    </tr>\n",
       "    <tr>\n",
       "      <th>4</th>\n",
       "      <td>17.60</td>\n",
       "      <td>4121</td>\n",
       "      <td>2020-02-12</td>\n",
       "      <td>EUR</td>\n",
       "      <td>-1</td>\n",
       "      <td>periodic</td>\n",
       "      <td>0.026316</td>\n",
       "      <td>0.093170</td>\n",
       "      <td>0.0</td>\n",
       "      <td>0.001548</td>\n",
       "      <td>...</td>\n",
       "      <td>0.0</td>\n",
       "      <td>0.0</td>\n",
       "      <td>0.0</td>\n",
       "      <td>0.0</td>\n",
       "      <td>0.0</td>\n",
       "      <td>0.0</td>\n",
       "      <td>0.0</td>\n",
       "      <td>0.0</td>\n",
       "      <td>0.0</td>\n",
       "      <td>0.0</td>\n",
       "    </tr>\n",
       "  </tbody>\n",
       "</table>\n",
       "<p>5 rows × 827 columns</p>\n",
       "</div>"
      ],
      "text/plain": [
       "   total   mcc        date currency  variability     label  Text_264  \\\n",
       "0  20.00  5734  2019-11-28      EUR            3  variable  0.000000   \n",
       "1  15.85  4121  2019-10-17      EUR            3  variable  0.005764   \n",
       "2   1.50  7372  2020-02-10      GBP           -1  periodic  0.133333   \n",
       "3  10.70  4121  2019-11-25      EUR            0     fixed  0.002882   \n",
       "4  17.60  4121  2020-02-12      EUR           -1  periodic  0.026316   \n",
       "\n",
       "   Text_275  Text_343  Text_131  ...  Text_816  Text_817  Text_818  Text_256  \\\n",
       "0  0.058824       0.0  0.000000  ...       0.0       0.0       0.0       0.0   \n",
       "1  0.002882       0.0  0.000000  ...       0.0       0.0       0.0       0.0   \n",
       "2  0.000000       0.0  0.000000  ...       0.0       0.0       0.0       0.0   \n",
       "3  0.063941       0.0  0.000000  ...       0.0       0.0       0.0       0.0   \n",
       "4  0.093170       0.0  0.001548  ...       0.0       0.0       0.0       0.0   \n",
       "\n",
       "   Text_819  Text_833  Text_834  Text_835  Text_59  Text_763  \n",
       "0       0.0       0.0       0.0       0.0      0.0       0.0  \n",
       "1       0.0       0.0       0.0       0.0      0.0       0.0  \n",
       "2       0.0       0.0       0.0       0.0      0.0       0.0  \n",
       "3       0.0       0.0       0.0       0.0      0.0       0.0  \n",
       "4       0.0       0.0       0.0       0.0      0.0       0.0  \n",
       "\n",
       "[5 rows x 827 columns]"
      ]
     },
     "execution_count": 53,
     "metadata": {},
     "output_type": "execute_result"
    }
   ],
   "source": [
    "data = data.drop(['month-year', 'month-day', 'year', 'month', 'day'], axis=1)\n",
    "data.head(5)"
   ]
  },
  {
   "cell_type": "code",
   "execution_count": 60,
   "metadata": {},
   "outputs": [],
   "source": [
    "from sklearn.preprocessing import OneHotEncoder\n",
    "from sklearn.preprocessing import LabelEncoder\n",
    "from sklearn.model_selection import train_test_split"
   ]
  },
  {
   "cell_type": "code",
   "execution_count": 161,
   "metadata": {},
   "outputs": [
    {
     "data": {
      "text/plain": [
       "((309, 826), (153, 826), (309,), (153,))"
      ]
     },
     "execution_count": 161,
     "metadata": {},
     "output_type": "execute_result"
    }
   ],
   "source": [
    "#df = df.drop(['merchant', 'baseCurrency'], axis=1)\n",
    "df = data\n",
    "y = df['label']\n",
    "X = df.drop(['label'], axis=1)\n",
    "\n",
    "#Covering problematic missing mccs\n",
    "_ = X.mcc[X.mcc==''].index\n",
    "X.loc[_, 'mcc'] = 0\n",
    "\n",
    "#Remaining Preprocessing\n",
    "y = LabelEncoder().fit_transform(y)\n",
    "X.currency = LabelEncoder().fit_transform(X.currency)\n",
    "X.date = LabelEncoder().fit_transform(X.date)\n",
    "#X = X.fillna(-1)\n",
    "#X = pd.concat(X.drop(['mcc', 'date'], axis=1), OneHotEncoder().fit_transform(X.loc[:,['mcc','date']]))\n",
    "#X = OneHotEncoder(categories='auto').fit_transform(X)\n",
    "X_train, X_test, y_train, y_test = train_test_split(X, y, test_size=0.33, random_state=42)\n",
    "X_train.shape, X_test.shape, y_train.shape, y_test.shape"
   ]
  },
  {
   "cell_type": "markdown",
   "metadata": {},
   "source": [
    "### Classification :"
   ]
  },
  {
   "cell_type": "code",
   "execution_count": null,
   "metadata": {},
   "outputs": [],
   "source": [
    "models = {\n",
    "    'RandomForestClassifier': RandomForestClassifier(),\n",
    "    'LogisticRegression': LogisticRegression(),\n",
    "    'NaiveBayes' : GaussianNB(),\n",
    "}\n",
    "\n",
    "# the optimisation parameters for each of the above models\n",
    "params = {\n",
    "    'RandomForestClassifier':{ \n",
    "            \"n_estimators\"      : [100, 200, 500, 1000],\n",
    "            \"max_features\"      : [\"auto\", \"sqrt\", \"log2\"],\n",
    "            \"bootstrap\": [True],\n",
    "            \"criterion\": ['gini', 'entropy'],\n",
    "            \"oob_score\": [True, False]\n",
    "            },\n",
    "    'LogisticRegression': {\n",
    "        'solver': ['newton-cg', 'sag', 'lbfgs'],\n",
    "        'multi_class': ['ovr', 'multinomial']\n",
    "        }, \n",
    "    'NaiveBayes': { },\n",
    "}"
   ]
  },
  {
   "cell_type": "code",
   "execution_count": null,
   "metadata": {},
   "outputs": [],
   "source": [
    "from sklearn.model_selection import GridSearchCV\n",
    "\n",
    "def fit(train_features, train_actuals):\n",
    "        \"\"\"\n",
    "        Fits the list of models and reports the best estimators in each turn of the loop\n",
    "        \"\"\"\n",
    "        best_models = []\n",
    "        for name in models.keys():\n",
    "            est = models[name]\n",
    "            est_params = params[name]\n",
    "            gscv = GridSearchCV(estimator=est, param_grid=est_params, cv=5)\n",
    "            gscv.fit(train_features, train_actuals)\n",
    "            best_models.append(gscv.best_estimator_)\n",
    "        return best_models"
   ]
  },
  {
   "cell_type": "code",
   "execution_count": 142,
   "metadata": {},
   "outputs": [],
   "source": [
    "df = df.replace(np.nan, '', regex=True)"
   ]
  },
  {
   "cell_type": "code",
   "execution_count": 194,
   "metadata": {},
   "outputs": [],
   "source": [
    "from sklearn.metrics import f1_score\n",
    "from sklearn.metrics import accuracy_score"
   ]
  },
  {
   "cell_type": "code",
   "execution_count": 81,
   "metadata": {},
   "outputs": [],
   "source": [
    "from yellowbrick.model_selection import LearningCurve"
   ]
  },
  {
   "cell_type": "code",
   "execution_count": 231,
   "metadata": {},
   "outputs": [
    {
     "data": {
      "image/png": "[encoded data removed]",
      "text/plain": [
       "<Figure size 576x396 with 1 Axes>"
      ]
     },
     "metadata": {},
     "output_type": "display_data"
    }
   ],
   "source": [
    "nb = GaussianNB(priors=None, var_smoothing=1e-09)\n",
    "visualizer = LearningCurve(\n",
    "    nb, cv=cv, scoring='accuracy', train_sizes=sizes, n_jobs=4, train_color='orange'\n",
    ")\n",
    "visualizer.fit(X_train, y_train)\n",
    "visualizer.show()"
   ]
  },
  {
   "cell_type": "code",
   "execution_count": 204,
   "metadata": {},
   "outputs": [
    {
     "name": "stdout",
     "output_type": "stream",
     "text": [
      "Train Accuracy 0.8480550161812298\n",
      "Test Accuracy 0.655921568627451\n"
     ]
    }
   ],
   "source": [
    "y_train_pred = nb.predict(X_train)\n",
    "accuracy_score(y_train, y_train_pred), accuracy_score(y_test, y_pred)\n",
    "print(\"Train Accuracy {}\\nTest Accuracy {}\".format(accuracy_score(y_train, y_train_pred), \n",
    "                                                accuracy_score(y_test, y_pred))"
   ]
  },
  {
   "cell_type": "code",
   "execution_count": 190,
   "metadata": {},
   "outputs": [
    {
     "name": "stdout",
     "output_type": "stream",
     "text": [
      "Confusion Matrix :\n",
      "[[13.  3.  8.]\n",
      " [ 6. 17.  4.]\n",
      " [ 9.  0. 27.]]\n"
     ]
    }
   ],
   "source": [
    "from sklearn.metrics import confusion_matrix\n",
    "from metrics import f1_score\n",
    "nb = GaussianNB(priors=None, var_smoothing=1e-09)\n",
    "nb.fit(X_train, y_train)\n",
    "y_pred = nb.predict(X_test)\n",
    "confusion_matrix(y_test, y_pred)\n",
    "print('Confusion Matrix :\\n{}'.format(confusion_matrix(y_test, y_pred)))"
   ]
  },
  {
   "cell_type": "markdown",
   "metadata": {},
   "source": [
    "# Optimization Module"
   ]
  },
  {
   "cell_type": "code",
   "execution_count": 4,
   "metadata": {},
   "outputs": [],
   "source": [
    "import gym\n",
    "from gym import error, spaces, utils\n",
    "from gym.utils import seeding\n",
    "import io\n",
    "import numpy as np\n",
    "import sys\n",
    "from gym.envs.toy_text import discrete\n",
    "import random\n",
    "from IPython.display import clear_output\n",
    "import math"
   ]
  },
  {
   "cell_type": "markdown",
   "metadata": {},
   "source": [
    "#### Config :\n",
    "Those are the values used for the experiment (same as in paper) as they are simpler.\n",
    "In a functional script there would be a transition from the costs classified in the previous part to generating automatically this config with the various different costs"
   ]
  },
  {
   "cell_type": "code",
   "execution_count": 7,
   "metadata": {},
   "outputs": [],
   "source": [
    "config = {'fixed': 4,\n",
    "          'periodic': 2,\n",
    "          'variable': [1, 3],\n",
    "          'weights': [1.35, 3.2],\n",
    "          'revenue': 10,\n",
    "          'rev_bounds': [11, 21, 31], #for discretisation of statespace\n",
    "          'cost_bounds': 10 #upper-bound of costs for this experiment\n",
    "}"
   ]
  },
  {
   "cell_type": "code",
   "execution_count": 5,
   "metadata": {},
   "outputs": [],
   "source": [
    "class environment(gym.Env):\n",
    "    metadata = {'render.modes': ['human']}\n",
    "\n",
    "    down = 0\n",
    "    up = 1\n",
    "    \n",
    "    def __init__(self, config):\n",
    "        \n",
    "        self.fixed = config['fixed']\n",
    "        self.periodic = config['periodic']\n",
    "        self.variable_costs = config['variable']\n",
    "        self.revenue = config['revenue']\n",
    "        self.weights = config['weights']\n",
    "        self.cost_bounds = config['cost_bounds']\n",
    "        self.rev_bounds = config['rev_bounds']\n",
    "        \n",
    "        self.len = len(self.variable_costs)\n",
    "        self.action_space = self.generate_actions()\n",
    "        self.state_space = self.generate_state_space()\n",
    "        self.profit = self.revenue-self.fixed+self.periodic+sum(self.variable_costs)\n",
    "        \n",
    "        #Factors used for en/decoding functions\n",
    "        self.factors = self.generate_encoding_factors()\n",
    "        self.current_state = self.encode(self.variable_costs, self.check_rev_bounds(self.revenue))\n",
    "    \n",
    "    #Agent takes one step in decision process\n",
    "    def step(self, action):\n",
    "        new_state = self.take_action(action)\n",
    "        self.current_state = new_state\n",
    "        reward, flag = self.get_reward()\n",
    "        \n",
    "        if flag is not True:\n",
    "            flag = self.reset()\n",
    "        \n",
    "        return new_state, reward, flag\n",
    "    \n",
    "    def reset(self):\n",
    "        self.fixed = config['fixed']\n",
    "        self.periodic = config['periodic']\n",
    "        self.variable_costs = config['variable']\n",
    "        self.revenue = config['revenue']\n",
    "        self.update_profit()\n",
    "        return True\n",
    "    \n",
    "    #Arbitrary reward definition. Good convergence is observed for this one\n",
    "    def get_reward(self):\n",
    "        flag = True\n",
    "        reward = -0.1\n",
    "        if self.profit >= 10:\n",
    "            reward = 10\n",
    "            flag = False\n",
    "        return reward, flag\n",
    "        \n",
    "    def generate_actions(self):\n",
    "        actions = {}\n",
    "        a_names = [\"increase\", \"decrease\"]\n",
    "        for i in range(0, self.len*2):\n",
    "                a = a_names[i%2]\n",
    "                actions[i] = \"{} {}\".format(a, i//2)\n",
    "        print(\"Action Space : {} \".format(actions))\n",
    "        return actions\n",
    "    \n",
    "    #State space is the combination of all possible states\n",
    "    # -> Multiplying the quantities of values each costs, and revenue, can take\n",
    "    def generate_state_space(self):\n",
    "        state_space = 1\n",
    "        for i in range(self.len):\n",
    "            state_space *= self.cost_bounds\n",
    "        state_space *= len(self.rev_bounds)\n",
    "        print(\"State Space : {} combinations for current experiment\".format(state_space))\n",
    "        return state_space\n",
    "    \n",
    "    def update_profit(self):\n",
    "        self.profit = self.revenue-self.fixed+self.periodic+sum(self.variable_costs)\n",
    "        return\n",
    "\n",
    "\n",
    "    def take_action(self, action):\n",
    "        # The floor // operations translates which action belongs to each cost\n",
    "        action = self.action_space[action]\n",
    "        cost = int(action.split()[1])\n",
    "        #print(cost)\n",
    "        weight = self.weights[cost]\n",
    "        #print(action)\n",
    "        if action.split()[0] == 'increase':\n",
    "            new_cost, flag = self.get_cost_bounds(self.variable_costs[cost], 1)\n",
    "            self.variable_costs[cost] = new_cost\n",
    "            if flag :\n",
    "                self.revenue += weight\n",
    "        elif action.split()[0] == 'decrease':\n",
    "            new_cost, flag = self.get_cost_bounds(self.variable_costs[cost], -1)\n",
    "            self.variable_costs[cost] = new_cost\n",
    "            if flag :\n",
    "                self.revenue -= weight\n",
    "        else:\n",
    "            pass\n",
    "        \n",
    "        revenue_cat = self.check_rev_bounds(self.revenue)\n",
    "        #print(\"----\")\n",
    "        print(\"\\n--> {}\".format(action))\n",
    "        for i in range(self.len):\n",
    "            print(\"V{} : {} \\ \".format(i,self.variable_costs[i]), end='')\n",
    "        print(\"\\nRev : {}\".format(self.revenue))\n",
    "        total_c = self.periodic+self.fixed+sum(self.variable_costs)\n",
    "        print(\"(Total Costs : {})\".format(total_c))\n",
    "        self.update_profit()\n",
    "        print(\"Profit : {}\\n------\".format(self.profit))\n",
    "              \n",
    "        return self.encode(self.variable_costs, revenue_cat)\n",
    "\n",
    "    def get_cost_bounds(self, cost, change):\n",
    "        flag = True\n",
    "        if change > 0 :\n",
    "            cost = np.min([cost+change, 10])\n",
    "            if cost == 10:\n",
    "                flag = False\n",
    "                \n",
    "        elif change < 0:\n",
    "            cost = np.max([cost+change, 0])\n",
    "            if cost == 0:\n",
    "                flag = False\n",
    "                    \n",
    "        return cost, flag\n",
    "\n",
    "    def check_rev_bounds(self, revenue):\n",
    "            for i in range(len(self.rev_bounds)):\n",
    "                if revenue < self.rev_bounds[i]:\n",
    "                    return i\n",
    "            return 0\n",
    "\n",
    "    def generate_encoding_factors(self):\n",
    "        factors = [1]\n",
    "        factors.append(len(self.rev_bounds))\n",
    "        factors.append(self.cost_bounds*len(self.rev_bounds) + len(self.rev_bounds))\n",
    "        #Only for two variable costs in this case. Additional combinations for more\n",
    "        return factors\n",
    "\n",
    "    #Encodes format (cost0, cost1 ... costn, rev) into an index for q_table\n",
    "    def encode(self, variable_costs, revenue_cat):\n",
    "        state = 0\n",
    "        state += revenue_cat * self.factors[0] + 1\n",
    "        variable_costs = variable_costs[::-1]\n",
    "        for i in range(self.len):\n",
    "            state += variable_costs[i] * self.factors[i+1]\n",
    "        return np.min([state, self.state_space-1])\n",
    "\n",
    "    def decode(self, state):\n",
    "        variable_costs = []\n",
    "        factors = self.factors[::-1]\n",
    "        for i in range(self.len):\n",
    "            variable_costs.append(state//(factors[i]+1))\n",
    "            state = state % (factors[i]+1)\n",
    "        revenue = np.max([state, 0])\n",
    "        return variable_costs, revenue"
   ]
  },
  {
   "cell_type": "markdown",
   "metadata": {},
   "source": [
    "#### Example of random agent :\n",
    "How a random agent plays the game, it can take hours (or minutes, as it is random) to reach a goal.\n",
    "It illustrates how the different values are meant to fluctuate given the assumptions"
   ]
  },
  {
   "cell_type": "code",
   "execution_count": 235,
   "metadata": {},
   "outputs": [
    {
     "name": "stdout",
     "output_type": "stream",
     "text": [
      "Action Space : {0: 'increase 0', 1: 'decrease 0', 2: 'increase 1', 3: 'decrease 1'} \n",
      "State Space : 300 combinations for current experiment\n",
      "\n",
      "--> increase 1\n",
      "V0 : 1 \\ V1 : 4 \\ \n",
      "Rev : 13.2\n",
      "(Total Costs : 11)\n",
      "Profit : 16.2\n",
      "------\n",
      "\n",
      "--> increase 0\n",
      "V0 : 2 \\ V1 : 4 \\ \n",
      "Rev : 11.35\n",
      "(Total Costs : 12)\n",
      "Profit : 15.35\n",
      "------\n",
      "\n",
      "--> decrease 0\n",
      "V0 : 1 \\ V1 : 4 \\ \n",
      "Rev : 8.65\n",
      "(Total Costs : 11)\n",
      "Profit : 11.65\n",
      "------\n",
      "\n",
      "--> decrease 1\n",
      "V0 : 1 \\ V1 : 3 \\ \n",
      "Rev : 6.8\n",
      "(Total Costs : 10)\n",
      "Profit : 8.8\n",
      "------\n",
      "\n",
      "--> decrease 1\n",
      "V0 : 1 \\ V1 : 2 \\ \n",
      "Rev : 3.5999999999999996\n",
      "(Total Costs : 9)\n",
      "Profit : 4.6\n",
      "------\n"
     ]
    }
   ],
   "source": [
    "env = environment(config)\n",
    "for i in range(5):\n",
    "        a = random.choice([0,1,2,3])\n",
    "        env.step(a)\n",
    "        #clear_output(wait=True)"
   ]
  },
  {
   "cell_type": "markdown",
   "metadata": {},
   "source": [
    "### Encoder / Decoder\n",
    "A bit technical, but really important in order to translate the states understood by environment under the form (cost1, cost2 ... costn, revenue) into indexes can be fed directly to the q_table (see paper)"
   ]
  },
  {
   "cell_type": "code",
   "execution_count": 236,
   "metadata": {},
   "outputs": [
    {
     "name": "stdout",
     "output_type": "stream",
     "text": [
      "V0 : 1 \\ V1: 0  \\ Revenue : 2\n",
      "Encoded --> State 36\n",
      "\n",
      "State 36\n",
      "Decoded --> V0 : 1 \\ V1: 0  \\ Revenue : 2\n",
      "\n",
      "V0 : 0 \\ V1: 0  \\ Revenue : 0\n",
      "Encoded --> State 1\n"
     ]
    }
   ],
   "source": [
    "_ = environment(config)\n",
    "clear_output(wait=True)\n",
    "print(\"V0 : {} \\ V1: {}  \\ Revenue : {}\".format(1, 0, 2))\n",
    "st = _.encode([1, 0], 2)\n",
    "print(\"Encoded --> State {}\".format(st))\n",
    "\n",
    "print(\"\\nState {}\".format(_.encode([1,0], 2)))\n",
    "c, r = _.decode(36)\n",
    "print(\"Decoded --> V0 : {} \\ V1: {}  \\ Revenue : {}\\n\".format(c[0], c[1], r))\n",
    "#print(_.encode())\n",
    "\n",
    "print(\"V0 : {} \\ V1: {}  \\ Revenue : {}\".format(0, 0, 0))\n",
    "st = _.encode([0, 0], 0)\n",
    "print(\"Encoded --> State {}\".format(st))"
   ]
  },
  {
   "cell_type": "code",
   "execution_count": 12,
   "metadata": {},
   "outputs": [],
   "source": [
    "class Q_Agent:\n",
    "    \n",
    "    def __init__(self):\n",
    "        self.env = environment(config)\n",
    "        self.q_table = np.zeros([self.env.state_space, len(self.env.action_space)])\n",
    "        #self.mdp_tuple = self.env.define_mdp_tuple()\n",
    "    \n",
    "    #Training is epsilon_greedy for this experiment\n",
    "    def train(self, episodes, epsilon, alpha, gamma):\n",
    "        state = self.env.current_state\n",
    "        for i in range(episodes):\n",
    "            done = False\n",
    "            while not done:\n",
    "                clear_output(wait=True)\n",
    "                print(\"Training.... Episode {}\".format(i))\n",
    "                if random.uniform(1,0) < epsilon:\n",
    "                    action = random.choice(list(self.env.action_space.keys()))\n",
    "                else :\n",
    "                    action = np.argmax(self.q_table[state])\n",
    "                \n",
    "                next_state, reward, done = self.env.step(action)\n",
    "                \n",
    "                old_value = self.q_table[state, action]\n",
    "                next_max = np.max(self.q_table[next_state])\n",
    "                \n",
    "                new_value = (1 - alpha) * old_value + alpha * (reward + gamma * next_max)\n",
    "                self.q_table[state, action] = new_value\n",
    "                \n",
    "                state = next_state\n",
    "                \n",
    "    def evaluate(self, episodes):\n",
    "        self.env.reset()\n",
    "        state = self.env.current_state\n",
    "        total_epochs = 0\n",
    "        cumulated_reward_list = []\n",
    "        avg_reward = []\n",
    "        for i in range(episodes):\n",
    "            done = False\n",
    "            epochs = 0\n",
    "            #print(\"Episode : {}\".format(i+1))\n",
    "            while not done :\n",
    "                clear_output(wait=True)\n",
    "                action = np.argmax(self.q_table[state])\n",
    "                next_state, reward, done = self.env.step(action)\n",
    "                state = next_state\n",
    "                epochs +=1\n",
    "                print(\"Epoch : {}\".format(epochs))\n",
    "            #Accuracy    \n",
    "            if (episodes + 1) - i <= 100:\n",
    "                sum_reward = sum(cumulated_reward_list)/epochs\n",
    "                avg_reward.append(reward)\n",
    "\n",
    "        print(\"Total episodes : {}\".format(episodes))\n",
    "        print(\"Average timesteps per episode : {}\".format(total_epochs/episodes))\n",
    "        return print(\"\\nFinal average reward : {}\".format(avg_reward[-1])), plt.plot(avg_rewards)"
   ]
  },
  {
   "cell_type": "markdown",
   "metadata": {},
   "source": [
    "#### Training and evaluation\n",
    "How a q-learning agent is trained to reach a goal (only 100 episodes here). Results can vary a lot since its a stochastic process but the intuition of the reward converging to a value is here"
   ]
  },
  {
   "cell_type": "code",
   "execution_count": 17,
   "metadata": {},
   "outputs": [
    {
     "name": "stdout",
     "output_type": "stream",
     "text": [
      "\n",
      "--> increase 0\n",
      "V0 : 10 \\ V1 : 6 \\ \n",
      "Rev : 10\n",
      "(Total Costs : 22)\n",
      "Profit : 24\n",
      "------\n",
      "Epoch : 1\n",
      "Total episodes : 100\n",
      "Average timesteps per episode : 18.34567945\n",
      "\n",
      "Final average reward : 4.46740866\n"
     ]
    },
    {
     "data": {
      "text/plain": [
       "[<matplotlib.lines.Line2D at 0x1a182a0d30>]"
      ]
     },
     "execution_count": 17,
     "metadata": {},
     "output_type": "execute_result"
    },
    {
     "data": {
      "image/png": "[encoded data removed]",
      "text/plain": [
       "<Figure size 432x288 with 1 Axes>"
      ]
     },
     "metadata": {
      "needs_background": "light"
     },
     "output_type": "display_data"
    }
   ],
   "source": [
    "q = Q_Agent()\n",
    "episodes = 100\n",
    "alpha = 0.3\n",
    "gamma = 0.6\n",
    "epsilon = 0.1\n",
    "q.train(episodes, epsilon, alpha, gamma)\n",
    "q.evaluate(100)"
   ]
  },
  {
   "cell_type": "markdown",
   "metadata": {},
   "source": [
    "#### Random Agent measures :\n",
    "Can very a lot due to randomness, but in avg it is slower than a pre-trained agent"
   ]
  },
  {
   "cell_type": "code",
   "execution_count": 40,
   "metadata": {},
   "outputs": [
    {
     "name": "stdout",
     "output_type": "stream",
     "text": [
      "\n",
      "--> increase 0\n",
      "V0 : 7 \\ V1 : 8 \\ \n",
      "Rev : 11.35\n",
      "(Total Costs : 21)\n",
      "Profit : 24.35\n",
      "------\n",
      "Total episodes : 100\n",
      "Average timesteps per episode : 1223\n",
      "\n",
      "Final average reward : -3.4539012\n"
     ]
    }
   ],
   "source": [
    "env_ = environment(config)\n",
    "accumulated_reward = []\n",
    "epochs = 1\n",
    "flag = False\n",
    "for i in range(100):\n",
    "        flag = False\n",
    "        while not flag:\n",
    "            clear_output(wait=True)\n",
    "            a = random.choice([0,1,2,3])\n",
    "            _, reward, flag = env_.step(a)\n",
    "            accumulated_reward.append(reward)\n",
    "            epochs += 1\n",
    "print(\"Total episodes : {}\".format(episodes))\n",
    "print(\"Average timesteps per episode : {}\".format(epochs/episodes))\n",
    "print(\"\\nFinal average reward : {}\".format(sum(accumulated_reward)/episodes))"
   ]
  }
 ],
 "metadata": {
  "kernelspec": {
   "display_name": "Python 3",
   "language": "python",
   "name": "python3"
  },
  "language_info": {
   "codemirror_mode": {
    "name": "ipython",
    "version": 3
   },
   "file_extension": ".py",
   "mimetype": "text/x-python",
   "name": "python",
   "nbconvert_exporter": "python",
   "pygments_lexer": "ipython3",
   "version": "3.7.3"
  }
 },
 "nbformat": 4,
 "nbformat_minor": 4
}
